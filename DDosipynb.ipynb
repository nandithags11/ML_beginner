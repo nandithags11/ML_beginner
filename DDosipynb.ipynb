{
  "nbformat": 4,
  "nbformat_minor": 0,
  "metadata": {
    "colab": {
      "provenance": [],
      "authorship_tag": "ABX9TyPpjeLHeE7fZdf0FHksxHIy",
      "include_colab_link": true
    },
    "kernelspec": {
      "name": "python3",
      "display_name": "Python 3"
    },
    "language_info": {
      "name": "python"
    }
  },
  "cells": [
    {
      "cell_type": "markdown",
      "metadata": {
        "id": "view-in-github",
        "colab_type": "text"
      },
      "source": [
        "<a href=\"https://colab.research.google.com/github/nandithags11/ML_beginner/blob/main/DDosipynb.ipynb\" target=\"_parent\"><img src=\"https://colab.research.google.com/assets/colab-badge.svg\" alt=\"Open In Colab\"/></a>"
      ]
    },
    {
      "cell_type": "code",
      "execution_count": 173,
      "metadata": {
        "id": "_ce_FWRkAsXR"
      },
      "outputs": [],
      "source": [
        "import pandas as pd\n",
        "import numpy as np\n",
        "import matplotlib.pyplot as plt\n",
        "import seaborn as sns\n",
        "from sklearn.model_selection import train_test_split\n",
        "from sklearn.preprocessing import StandardScaler\n",
        "from sklearn.naive_bayes import GaussianNB\n",
        "from sklearn.metrics import confusion_matrix,accuracy_score\n",
        "from matplotlib.colors import ListedColormap\n",
        "pd.options.display.max_rows=100\n",
        "pd.options.display.max_columns=100\n",
        "pd.options.mode.use_inf_as_na = True\n",
        "# simply tells pandas to recognise inf as a NaN in calculations\n",
        "plt.style.use('dark_background')"
      ]
    },
    {
      "cell_type": "code",
      "source": [
        "df=pd.read_csv(\"/content/LDAP.csv\",sep=',',dtype={'SimillarHTTP': 'object'})\n",
        "df.columns = df.columns.str.replace(' ', '')\n",
        "#df.head()"
      ],
      "metadata": {
        "id": "3FnLF1C-HEIE"
      },
      "execution_count": 174,
      "outputs": []
    },
    {
      "cell_type": "code",
      "source": [
        "df.shape"
      ],
      "metadata": {
        "colab": {
          "base_uri": "https://localhost:8080/"
        },
        "id": "ij_PkKRxIjZw",
        "outputId": "0fa447dc-96a8-4517-d464-ce702fec1ac0"
      },
      "execution_count": 175,
      "outputs": [
        {
          "output_type": "execute_result",
          "data": {
            "text/plain": [
              "(318028, 88)"
            ]
          },
          "metadata": {},
          "execution_count": 175
        }
      ]
    },
    {
      "cell_type": "code",
      "source": [
        "df.columns"
      ],
      "metadata": {
        "colab": {
          "base_uri": "https://localhost:8080/"
        },
        "id": "LvQLTUAqIvOK",
        "outputId": "34ef3314-b4bc-4d58-f14c-da9886205ad7"
      },
      "execution_count": 176,
      "outputs": [
        {
          "output_type": "execute_result",
          "data": {
            "text/plain": [
              "Index(['Unnamed:0', 'FlowID', 'SourceIP', 'SourcePort', 'DestinationIP',\n",
              "       'DestinationPort', 'Protocol', 'Timestamp', 'FlowDuration',\n",
              "       'TotalFwdPackets', 'TotalBackwardPackets', 'TotalLengthofFwdPackets',\n",
              "       'TotalLengthofBwdPackets', 'FwdPacketLengthMax', 'FwdPacketLengthMin',\n",
              "       'FwdPacketLengthMean', 'FwdPacketLengthStd', 'BwdPacketLengthMax',\n",
              "       'BwdPacketLengthMin', 'BwdPacketLengthMean', 'BwdPacketLengthStd',\n",
              "       'FlowBytes/s', 'FlowPackets/s', 'FlowIATMean', 'FlowIATStd',\n",
              "       'FlowIATMax', 'FlowIATMin', 'FwdIATTotal', 'FwdIATMean', 'FwdIATStd',\n",
              "       'FwdIATMax', 'FwdIATMin', 'BwdIATTotal', 'BwdIATMean', 'BwdIATStd',\n",
              "       'BwdIATMax', 'BwdIATMin', 'FwdPSHFlags', 'BwdPSHFlags', 'FwdURGFlags',\n",
              "       'BwdURGFlags', 'FwdHeaderLength', 'BwdHeaderLength', 'FwdPackets/s',\n",
              "       'BwdPackets/s', 'MinPacketLength', 'MaxPacketLength',\n",
              "       'PacketLengthMean', 'PacketLengthStd', 'PacketLengthVariance',\n",
              "       'FINFlagCount', 'SYNFlagCount', 'RSTFlagCount', 'PSHFlagCount',\n",
              "       'ACKFlagCount', 'URGFlagCount', 'CWEFlagCount', 'ECEFlagCount',\n",
              "       'Down/UpRatio', 'AveragePacketSize', 'AvgFwdSegmentSize',\n",
              "       'AvgBwdSegmentSize', 'FwdHeaderLength.1', 'FwdAvgBytes/Bulk',\n",
              "       'FwdAvgPackets/Bulk', 'FwdAvgBulkRate', 'BwdAvgBytes/Bulk',\n",
              "       'BwdAvgPackets/Bulk', 'BwdAvgBulkRate', 'SubflowFwdPackets',\n",
              "       'SubflowFwdBytes', 'SubflowBwdPackets', 'SubflowBwdBytes',\n",
              "       'Init_Win_bytes_forward', 'Init_Win_bytes_backward', 'act_data_pkt_fwd',\n",
              "       'min_seg_size_forward', 'ActiveMean', 'ActiveStd', 'ActiveMax',\n",
              "       'ActiveMin', 'IdleMean', 'IdleStd', 'IdleMax', 'IdleMin',\n",
              "       'SimillarHTTP', 'Inbound', 'Label'],\n",
              "      dtype='object')"
            ]
          },
          "metadata": {},
          "execution_count": 176
        }
      ]
    },
    {
      "cell_type": "code",
      "source": [
        "df['Label'].value_counts()/len(df) *100"
      ],
      "metadata": {
        "colab": {
          "base_uri": "https://localhost:8080/"
        },
        "id": "eBATwoPsJSrH",
        "outputId": "a01f3597-9dd0-418a-d9b8-72eed773df16"
      },
      "execution_count": 177,
      "outputs": [
        {
          "output_type": "execute_result",
          "data": {
            "text/plain": [
              "NetBIOS    63.805388\n",
              "LDAP       35.288717\n",
              "BENIGN      0.905581\n",
              "Name: Label, dtype: float64"
            ]
          },
          "metadata": {},
          "execution_count": 177
        }
      ]
    },
    {
      "cell_type": "code",
      "source": [
        "df1=df.loc[df['Label'] !='NetBIOS']\n",
        "df1['Label'].value_counts()/len(df1) *100"
      ],
      "metadata": {
        "colab": {
          "base_uri": "https://localhost:8080/"
        },
        "id": "rVhV65iysbU0",
        "outputId": "5e24395e-d4bb-4b8d-de69-0e63f49b7f72"
      },
      "execution_count": 178,
      "outputs": [
        {
          "output_type": "execute_result",
          "data": {
            "text/plain": [
              "LDAP      97.497155\n",
              "BENIGN     2.501976\n",
              "Name: Label, dtype: float64"
            ]
          },
          "metadata": {},
          "execution_count": 178
        }
      ]
    },
    {
      "cell_type": "code",
      "source": [
        "df1.isna().sum()"
      ],
      "metadata": {
        "colab": {
          "base_uri": "https://localhost:8080/"
        },
        "id": "5-XdR572ufGW",
        "outputId": "6d00ca06-e234-4d2c-de32-c3797c4f8225"
      },
      "execution_count": 179,
      "outputs": [
        {
          "output_type": "execute_result",
          "data": {
            "text/plain": [
              "Unnamed:0                    0\n",
              "FlowID                       0\n",
              "SourceIP                     0\n",
              "SourcePort                   0\n",
              "DestinationIP                0\n",
              "DestinationPort              0\n",
              "Protocol                     0\n",
              "Timestamp                    0\n",
              "FlowDuration                 0\n",
              "TotalFwdPackets              0\n",
              "TotalBackwardPackets         0\n",
              "TotalLengthofFwdPackets      0\n",
              "TotalLengthofBwdPackets      0\n",
              "FwdPacketLengthMax           0\n",
              "FwdPacketLengthMin           0\n",
              "FwdPacketLengthMean          0\n",
              "FwdPacketLengthStd           0\n",
              "BwdPacketLengthMax           0\n",
              "BwdPacketLengthMin           0\n",
              "BwdPacketLengthMean          0\n",
              "BwdPacketLengthStd           0\n",
              "FlowBytes/s                817\n",
              "FlowPackets/s              817\n",
              "FlowIATMean                  0\n",
              "FlowIATStd                   0\n",
              "FlowIATMax                   0\n",
              "FlowIATMin                   1\n",
              "FwdIATTotal                  1\n",
              "FwdIATMean                   1\n",
              "FwdIATStd                    1\n",
              "FwdIATMax                    1\n",
              "FwdIATMin                    1\n",
              "BwdIATTotal                  1\n",
              "BwdIATMean                   1\n",
              "BwdIATStd                    1\n",
              "BwdIATMax                    1\n",
              "BwdIATMin                    1\n",
              "FwdPSHFlags                  1\n",
              "BwdPSHFlags                  1\n",
              "FwdURGFlags                  1\n",
              "BwdURGFlags                  1\n",
              "FwdHeaderLength              1\n",
              "BwdHeaderLength              1\n",
              "FwdPackets/s                 1\n",
              "BwdPackets/s                 1\n",
              "MinPacketLength              1\n",
              "MaxPacketLength              1\n",
              "PacketLengthMean             1\n",
              "PacketLengthStd              1\n",
              "PacketLengthVariance         1\n",
              "FINFlagCount                 1\n",
              "SYNFlagCount                 1\n",
              "RSTFlagCount                 1\n",
              "PSHFlagCount                 1\n",
              "ACKFlagCount                 1\n",
              "URGFlagCount                 1\n",
              "CWEFlagCount                 1\n",
              "ECEFlagCount                 1\n",
              "Down/UpRatio                 1\n",
              "AveragePacketSize            1\n",
              "AvgFwdSegmentSize            1\n",
              "AvgBwdSegmentSize            1\n",
              "FwdHeaderLength.1            1\n",
              "FwdAvgBytes/Bulk             1\n",
              "FwdAvgPackets/Bulk           1\n",
              "FwdAvgBulkRate               1\n",
              "BwdAvgBytes/Bulk             1\n",
              "BwdAvgPackets/Bulk           1\n",
              "BwdAvgBulkRate               1\n",
              "SubflowFwdPackets            1\n",
              "SubflowFwdBytes              1\n",
              "SubflowBwdPackets            1\n",
              "SubflowBwdBytes              1\n",
              "Init_Win_bytes_forward       1\n",
              "Init_Win_bytes_backward      1\n",
              "act_data_pkt_fwd             1\n",
              "min_seg_size_forward         1\n",
              "ActiveMean                   1\n",
              "ActiveStd                    1\n",
              "ActiveMax                    1\n",
              "ActiveMin                    1\n",
              "IdleMean                     1\n",
              "IdleStd                      1\n",
              "IdleMax                      1\n",
              "IdleMin                      1\n",
              "SimillarHTTP                 1\n",
              "Inbound                      1\n",
              "Label                        1\n",
              "dtype: int64"
            ]
          },
          "metadata": {},
          "execution_count": 179
        }
      ]
    },
    {
      "cell_type": "code",
      "source": [
        "df1.drop(columns=['FlowBytes/s','FlowPackets/s','Unnamed:0','FlowID', 'SourceIP', 'DestinationIP', 'Timestamp', 'SimillarHTTP', 'SourcePort', 'DestinationPort'],inplace=True)"
      ],
      "metadata": {
        "colab": {
          "base_uri": "https://localhost:8080/"
        },
        "id": "wNKr7CRv3ehj",
        "outputId": "699d976e-9921-4a3a-ada4-631885ef6b6e"
      },
      "execution_count": 180,
      "outputs": [
        {
          "output_type": "stream",
          "name": "stderr",
          "text": [
            "/usr/local/lib/python3.8/dist-packages/pandas/core/frame.py:4906: SettingWithCopyWarning: \n",
            "A value is trying to be set on a copy of a slice from a DataFrame\n",
            "\n",
            "See the caveats in the documentation: https://pandas.pydata.org/pandas-docs/stable/user_guide/indexing.html#returning-a-view-versus-a-copy\n",
            "  return super().drop(\n"
          ]
        }
      ]
    },
    {
      "cell_type": "code",
      "source": [
        "df1.shape"
      ],
      "metadata": {
        "colab": {
          "base_uri": "https://localhost:8080/"
        },
        "id": "7rSHNXFJ4Sb7",
        "outputId": "4293e93f-e448-4994-a721-af5ab9cb7cbe"
      },
      "execution_count": 181,
      "outputs": [
        {
          "output_type": "execute_result",
          "data": {
            "text/plain": [
              "(115109, 78)"
            ]
          },
          "metadata": {},
          "execution_count": 181
        }
      ]
    },
    {
      "cell_type": "code",
      "source": [
        "df1.dropna(inplace=True)"
      ],
      "metadata": {
        "colab": {
          "base_uri": "https://localhost:8080/"
        },
        "id": "r3u0Ax_W4p8D",
        "outputId": "5807bd85-6b8e-42bf-f29a-c975ed62902e"
      },
      "execution_count": 182,
      "outputs": [
        {
          "output_type": "stream",
          "name": "stderr",
          "text": [
            "/usr/local/lib/python3.8/dist-packages/pandas/util/_decorators.py:311: SettingWithCopyWarning: \n",
            "A value is trying to be set on a copy of a slice from a DataFrame\n",
            "\n",
            "See the caveats in the documentation: https://pandas.pydata.org/pandas-docs/stable/user_guide/indexing.html#returning-a-view-versus-a-copy\n",
            "  return func(*args, **kwargs)\n"
          ]
        }
      ]
    },
    {
      "cell_type": "code",
      "source": [
        "df1.shape"
      ],
      "metadata": {
        "colab": {
          "base_uri": "https://localhost:8080/"
        },
        "id": "aNvZU-a9404l",
        "outputId": "c0fe891f-c6ba-4929-e81a-8fd82d8eef53"
      },
      "execution_count": 183,
      "outputs": [
        {
          "output_type": "execute_result",
          "data": {
            "text/plain": [
              "(115108, 78)"
            ]
          },
          "metadata": {},
          "execution_count": 183
        }
      ]
    },
    {
      "cell_type": "code",
      "source": [
        "df1.columns"
      ],
      "metadata": {
        "colab": {
          "base_uri": "https://localhost:8080/"
        },
        "id": "tPhEjJ62xZ7p",
        "outputId": "87f4ad16-c41f-40ce-c569-95d4c07512ad"
      },
      "execution_count": 184,
      "outputs": [
        {
          "output_type": "execute_result",
          "data": {
            "text/plain": [
              "Index(['Protocol', 'FlowDuration', 'TotalFwdPackets', 'TotalBackwardPackets',\n",
              "       'TotalLengthofFwdPackets', 'TotalLengthofBwdPackets',\n",
              "       'FwdPacketLengthMax', 'FwdPacketLengthMin', 'FwdPacketLengthMean',\n",
              "       'FwdPacketLengthStd', 'BwdPacketLengthMax', 'BwdPacketLengthMin',\n",
              "       'BwdPacketLengthMean', 'BwdPacketLengthStd', 'FlowIATMean',\n",
              "       'FlowIATStd', 'FlowIATMax', 'FlowIATMin', 'FwdIATTotal', 'FwdIATMean',\n",
              "       'FwdIATStd', 'FwdIATMax', 'FwdIATMin', 'BwdIATTotal', 'BwdIATMean',\n",
              "       'BwdIATStd', 'BwdIATMax', 'BwdIATMin', 'FwdPSHFlags', 'BwdPSHFlags',\n",
              "       'FwdURGFlags', 'BwdURGFlags', 'FwdHeaderLength', 'BwdHeaderLength',\n",
              "       'FwdPackets/s', 'BwdPackets/s', 'MinPacketLength', 'MaxPacketLength',\n",
              "       'PacketLengthMean', 'PacketLengthStd', 'PacketLengthVariance',\n",
              "       'FINFlagCount', 'SYNFlagCount', 'RSTFlagCount', 'PSHFlagCount',\n",
              "       'ACKFlagCount', 'URGFlagCount', 'CWEFlagCount', 'ECEFlagCount',\n",
              "       'Down/UpRatio', 'AveragePacketSize', 'AvgFwdSegmentSize',\n",
              "       'AvgBwdSegmentSize', 'FwdHeaderLength.1', 'FwdAvgBytes/Bulk',\n",
              "       'FwdAvgPackets/Bulk', 'FwdAvgBulkRate', 'BwdAvgBytes/Bulk',\n",
              "       'BwdAvgPackets/Bulk', 'BwdAvgBulkRate', 'SubflowFwdPackets',\n",
              "       'SubflowFwdBytes', 'SubflowBwdPackets', 'SubflowBwdBytes',\n",
              "       'Init_Win_bytes_forward', 'Init_Win_bytes_backward', 'act_data_pkt_fwd',\n",
              "       'min_seg_size_forward', 'ActiveMean', 'ActiveStd', 'ActiveMax',\n",
              "       'ActiveMin', 'IdleMean', 'IdleStd', 'IdleMax', 'IdleMin', 'Inbound',\n",
              "       'Label'],\n",
              "      dtype='object')"
            ]
          },
          "metadata": {},
          "execution_count": 184
        }
      ]
    },
    {
      "cell_type": "code",
      "source": [
        "x=df1.iloc[:,:-1].values\n",
        "y=df1.iloc[:,-1].values\n"
      ],
      "metadata": {
        "id": "vBrDI4VpyRBQ"
      },
      "execution_count": 185,
      "outputs": []
    },
    {
      "cell_type": "code",
      "source": [
        "x_train,x_test,y_train,y_test=train_test_split(x,y,test_size=0.30)\n",
        "x_train"
      ],
      "metadata": {
        "colab": {
          "base_uri": "https://localhost:8080/"
        },
        "id": "ovfT7f6Hz8-0",
        "outputId": "8271844f-4c17-4dca-ae55-abe76e1ee726"
      },
      "execution_count": 186,
      "outputs": [
        {
          "output_type": "execute_result",
          "data": {
            "text/plain": [
              "array([[17.,  1.,  2., ...,  0.,  0.,  1.],\n",
              "       [17.,  1.,  2., ...,  0.,  0.,  1.],\n",
              "       [17.,  2.,  2., ...,  0.,  0.,  1.],\n",
              "       ...,\n",
              "       [17.,  2.,  2., ...,  0.,  0.,  1.],\n",
              "       [17.,  1.,  2., ...,  0.,  0.,  1.],\n",
              "       [17.,  2.,  2., ...,  0.,  0.,  1.]])"
            ]
          },
          "metadata": {},
          "execution_count": 186
        }
      ]
    },
    {
      "cell_type": "code",
      "source": [
        "std = StandardScaler()\n",
        "std.fit(x_train)\n",
        "x_train=std.transform(x_train)\n",
        "x_test=std.transform(x_test)\n",
        "#x_train"
      ],
      "metadata": {
        "id": "FW2NxXKs0s7L"
      },
      "execution_count": 187,
      "outputs": []
    },
    {
      "cell_type": "markdown",
      "source": [],
      "metadata": {
        "id": "pffgCBuo6LBD"
      }
    },
    {
      "cell_type": "code",
      "source": [
        "#x_test"
      ],
      "metadata": {
        "id": "9S6_Pnx51WJ7"
      },
      "execution_count": 188,
      "outputs": []
    },
    {
      "cell_type": "code",
      "source": [
        "## model"
      ],
      "metadata": {
        "id": "yh_VeHX_7-2j"
      },
      "execution_count": 189,
      "outputs": []
    },
    {
      "cell_type": "code",
      "source": [
        "gnb=GaussianNB()\n",
        "gnb.fit(x_train,y_train)\n",
        "y_predict=gnb.predict(x_test)\n",
        "y_predict"
      ],
      "metadata": {
        "colab": {
          "base_uri": "https://localhost:8080/"
        },
        "id": "wLoXJvws8Fa9",
        "outputId": "3900abcf-950c-44ea-8fac-88f09bd40a26"
      },
      "execution_count": 190,
      "outputs": [
        {
          "output_type": "execute_result",
          "data": {
            "text/plain": [
              "array(['LDAP', 'LDAP', 'LDAP', ..., 'LDAP', 'LDAP', 'LDAP'], dtype='<U6')"
            ]
          },
          "metadata": {},
          "execution_count": 190
        }
      ]
    },
    {
      "cell_type": "code",
      "source": [
        "y_test"
      ],
      "metadata": {
        "colab": {
          "base_uri": "https://localhost:8080/"
        },
        "id": "5C71sJVS9aCV",
        "outputId": "fbdda965-f5f8-44c1-eea1-d7e3b626382a"
      },
      "execution_count": 191,
      "outputs": [
        {
          "output_type": "execute_result",
          "data": {
            "text/plain": [
              "array(['LDAP', 'LDAP', 'LDAP', ..., 'LDAP', 'LDAP', 'LDAP'], dtype=object)"
            ]
          },
          "metadata": {},
          "execution_count": 191
        }
      ]
    },
    {
      "cell_type": "code",
      "source": [
        "result=confusion_matrix(y_test,y_predict)\n",
        "result"
      ],
      "metadata": {
        "colab": {
          "base_uri": "https://localhost:8080/"
        },
        "id": "o_jRGkqk9rg2",
        "outputId": "143a1e8a-0f80-440c-e00b-8c801e1dcbe4"
      },
      "execution_count": 192,
      "outputs": [
        {
          "output_type": "execute_result",
          "data": {
            "text/plain": [
              "array([[  868,     0],\n",
              "       [   17, 33648]])"
            ]
          },
          "metadata": {},
          "execution_count": 192
        }
      ]
    },
    {
      "cell_type": "code",
      "source": [
        "from sklearn.metrics._plot.confusion_matrix import ConfusionMatrixDisplay\n",
        "labels=['LDAP','BENIGN']\n",
        "cm=ConfusionMatrixDisplay(result,display_labels=labels)\n",
        "cm.plot()"
      ],
      "metadata": {
        "colab": {
          "base_uri": "https://localhost:8080/",
          "height": 296
        },
        "id": "-jbE__el91lF",
        "outputId": "9f80e56b-b6ab-4b9a-c803-41df2b0129d9"
      },
      "execution_count": 193,
      "outputs": [
        {
          "output_type": "execute_result",
          "data": {
            "text/plain": [
              "<sklearn.metrics._plot.confusion_matrix.ConfusionMatrixDisplay at 0x7f21a12323d0>"
            ]
          },
          "metadata": {},
          "execution_count": 193
        },
        {
          "output_type": "display_data",
          "data": {
            "text/plain": [
              "<Figure size 432x288 with 2 Axes>"
            ],
            "image/png": "[encoded data removed]"
          },
          "metadata": {}
        }
      ]
    },
    {
      "cell_type": "code",
      "source": [
        "score=accuracy_score(y_test,y_predict)\n",
        "score"
      ],
      "metadata": {
        "colab": {
          "base_uri": "https://localhost:8080/"
        },
        "id": "KClc3Auh-bv2",
        "outputId": "76b84b1f-8cde-499a-bcc4-92b231715f4b"
      },
      "execution_count": 194,
      "outputs": [
        {
          "output_type": "execute_result",
          "data": {
            "text/plain": [
              "0.9995077172559581"
            ]
          },
          "metadata": {},
          "execution_count": 194
        }
      ]
    },
    {
      "cell_type": "code",
      "source": [],
      "metadata": {
        "id": "xCqTy0BG-sJH"
      },
      "execution_count": null,
      "outputs": []
    }
  ]
}