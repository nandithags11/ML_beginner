{
 "cells": [
  {
   "cell_type": "code",
   "execution_count": 28,
   "id": "2fb28027",
   "metadata": {},
   "outputs": [],
   "source": [
    "import numpy as np\n",
    "import pandas as pd\n",
    "from sklearn.model_selection import train_test_split\n",
    "from sklearn.preprocessing import StandardScaler\n",
    "from sklearn.neighbors import KNeighborsClassifier"
   ]
  },
  {
   "cell_type": "code",
   "execution_count": 29,
   "id": "a10cf41a",
   "metadata": {},
   "outputs": [
    {
     "data": {
      "text/html": [
       "<div>\n",
       "<style scoped>\n",
       "    .dataframe tbody tr th:only-of-type {\n",
       "        vertical-align: middle;\n",
       "    }\n",
       "\n",
       "    .dataframe tbody tr th {\n",
       "        vertical-align: top;\n",
       "    }\n",
       "\n",
       "    .dataframe thead th {\n",
       "        text-align: right;\n",
       "    }\n",
       "</style>\n",
       "<table border=\"1\" class=\"dataframe\">\n",
       "  <thead>\n",
       "    <tr style=\"text-align: right;\">\n",
       "      <th></th>\n",
       "      <th>Id</th>\n",
       "      <th>SepalLengthCm</th>\n",
       "      <th>SepalWidthCm</th>\n",
       "      <th>PetalLengthCm</th>\n",
       "      <th>PetalWidthCm</th>\n",
       "      <th>Species</th>\n",
       "    </tr>\n",
       "  </thead>\n",
       "  <tbody>\n",
       "    <tr>\n",
       "      <th>0</th>\n",
       "      <td>1</td>\n",
       "      <td>5.1</td>\n",
       "      <td>3.5</td>\n",
       "      <td>1.4</td>\n",
       "      <td>0.2</td>\n",
       "      <td>Iris-setosa</td>\n",
       "    </tr>\n",
       "    <tr>\n",
       "      <th>1</th>\n",
       "      <td>2</td>\n",
       "      <td>4.9</td>\n",
       "      <td>3.0</td>\n",
       "      <td>1.4</td>\n",
       "      <td>0.2</td>\n",
       "      <td>Iris-setosa</td>\n",
       "    </tr>\n",
       "    <tr>\n",
       "      <th>2</th>\n",
       "      <td>3</td>\n",
       "      <td>4.7</td>\n",
       "      <td>3.2</td>\n",
       "      <td>1.3</td>\n",
       "      <td>0.2</td>\n",
       "      <td>Iris-setosa</td>\n",
       "    </tr>\n",
       "    <tr>\n",
       "      <th>3</th>\n",
       "      <td>4</td>\n",
       "      <td>4.6</td>\n",
       "      <td>3.1</td>\n",
       "      <td>1.5</td>\n",
       "      <td>0.2</td>\n",
       "      <td>Iris-setosa</td>\n",
       "    </tr>\n",
       "    <tr>\n",
       "      <th>4</th>\n",
       "      <td>5</td>\n",
       "      <td>5.0</td>\n",
       "      <td>3.6</td>\n",
       "      <td>1.4</td>\n",
       "      <td>0.2</td>\n",
       "      <td>Iris-setosa</td>\n",
       "    </tr>\n",
       "    <tr>\n",
       "      <th>...</th>\n",
       "      <td>...</td>\n",
       "      <td>...</td>\n",
       "      <td>...</td>\n",
       "      <td>...</td>\n",
       "      <td>...</td>\n",
       "      <td>...</td>\n",
       "    </tr>\n",
       "    <tr>\n",
       "      <th>145</th>\n",
       "      <td>146</td>\n",
       "      <td>6.7</td>\n",
       "      <td>3.0</td>\n",
       "      <td>5.2</td>\n",
       "      <td>2.3</td>\n",
       "      <td>Iris-virginica</td>\n",
       "    </tr>\n",
       "    <tr>\n",
       "      <th>146</th>\n",
       "      <td>147</td>\n",
       "      <td>6.3</td>\n",
       "      <td>2.5</td>\n",
       "      <td>5.0</td>\n",
       "      <td>1.9</td>\n",
       "      <td>Iris-virginica</td>\n",
       "    </tr>\n",
       "    <tr>\n",
       "      <th>147</th>\n",
       "      <td>148</td>\n",
       "      <td>6.5</td>\n",
       "      <td>3.0</td>\n",
       "      <td>5.2</td>\n",
       "      <td>2.0</td>\n",
       "      <td>Iris-virginica</td>\n",
       "    </tr>\n",
       "    <tr>\n",
       "      <th>148</th>\n",
       "      <td>149</td>\n",
       "      <td>6.2</td>\n",
       "      <td>3.4</td>\n",
       "      <td>5.4</td>\n",
       "      <td>2.3</td>\n",
       "      <td>Iris-virginica</td>\n",
       "    </tr>\n",
       "    <tr>\n",
       "      <th>149</th>\n",
       "      <td>150</td>\n",
       "      <td>5.9</td>\n",
       "      <td>3.0</td>\n",
       "      <td>5.1</td>\n",
       "      <td>1.8</td>\n",
       "      <td>Iris-virginica</td>\n",
       "    </tr>\n",
       "  </tbody>\n",
       "</table>\n",
       "<p>150 rows × 6 columns</p>\n",
       "</div>"
      ],
      "text/plain": [
       "      Id  SepalLengthCm  SepalWidthCm  PetalLengthCm  PetalWidthCm  \\\n",
       "0      1            5.1           3.5            1.4           0.2   \n",
       "1      2            4.9           3.0            1.4           0.2   \n",
       "2      3            4.7           3.2            1.3           0.2   \n",
       "3      4            4.6           3.1            1.5           0.2   \n",
       "4      5            5.0           3.6            1.4           0.2   \n",
       "..   ...            ...           ...            ...           ...   \n",
       "145  146            6.7           3.0            5.2           2.3   \n",
       "146  147            6.3           2.5            5.0           1.9   \n",
       "147  148            6.5           3.0            5.2           2.0   \n",
       "148  149            6.2           3.4            5.4           2.3   \n",
       "149  150            5.9           3.0            5.1           1.8   \n",
       "\n",
       "            Species  \n",
       "0       Iris-setosa  \n",
       "1       Iris-setosa  \n",
       "2       Iris-setosa  \n",
       "3       Iris-setosa  \n",
       "4       Iris-setosa  \n",
       "..              ...  \n",
       "145  Iris-virginica  \n",
       "146  Iris-virginica  \n",
       "147  Iris-virginica  \n",
       "148  Iris-virginica  \n",
       "149  Iris-virginica  \n",
       "\n",
       "[150 rows x 6 columns]"
      ]
     },
     "execution_count": 29,
     "metadata": {},
     "output_type": "execute_result"
    }
   ],
   "source": [
    "df=pd.read_csv(\"/home/nanditha/Downloads/Iris.csv\")\n",
    "df.isna().sum()\n",
    "df"
   ]
  },
  {
   "cell_type": "code",
   "execution_count": 30,
   "id": "586d14b2",
   "metadata": {},
   "outputs": [],
   "source": [
    "x=df.iloc[:,1:-1].values\n",
    "y=df.iloc[:,-1].values"
   ]
  },
  {
   "cell_type": "code",
   "execution_count": 31,
   "id": "22e4de0a",
   "metadata": {},
   "outputs": [],
   "source": [
    "x_train,x_test,y_train,y_test=train_test_split(x,y,test_size=0.30)"
   ]
  },
  {
   "cell_type": "code",
   "execution_count": 32,
   "id": "75c64cd1",
   "metadata": {},
   "outputs": [
    {
     "data": {
      "text/plain": [
       "array([[ 0.27235473, -0.16555473,  0.69251151,  0.93468959],\n",
       "       [ 0.03404434, -0.611279  ,  0.85865098,  1.72616062],\n",
       "       [ 1.34475147,  0.05730741,  0.85865098,  1.59424878],\n",
       "       [-0.80004201,  0.94875595, -1.1904025 , -1.17589981],\n",
       "       [-1.0383524 ,  0.05730741, -1.13502268, -1.30781165],\n",
       "       [ 0.62982031, -1.27986541,  0.74789134,  0.53895408],\n",
       "       [ 1.10644108,  0.05730741,  1.1355501 ,  1.72616062],\n",
       "       [-1.27666279,  0.28016954, -1.07964285, -1.17589981],\n",
       "       [ 0.7489755 ,  0.05730741,  1.08017028,  0.93468959],\n",
       "       [ 1.10644108, -1.27986541,  1.24630975,  0.93468959],\n",
       "       [ 1.10644108,  0.50303168,  1.19092993,  1.85807246],\n",
       "       [-0.44257643,  0.72589381, -1.02426303, -1.17589981],\n",
       "       [-0.20426605, -0.16555473,  0.52637204,  0.53895408],\n",
       "       [ 1.70221705,  0.28016954,  1.3570694 ,  0.93468959],\n",
       "       [ 0.27235473, -0.83414114,  0.85865098,  0.67086592],\n",
       "       [ 1.10644108, -0.16555473,  0.80327116,  0.80277776],\n",
       "       [ 1.82137224, -0.38841687,  1.52320887,  0.93468959],\n",
       "       [ 1.10644108,  0.05730741,  0.63713169,  0.53895408],\n",
       "       [-0.32342124, -1.50272755,  0.08333345, -0.12060511],\n",
       "       [-0.44257643,  1.84020449, -1.24578232, -0.91207614],\n",
       "       [ 1.10644108, -0.16555473,  0.91403081,  1.59424878],\n",
       "       [-0.32342124, -1.27986541,  0.24947292,  0.2751304 ],\n",
       "       [-0.44257643,  1.84020449, -1.02426303, -0.91207614],\n",
       "       [ 1.34475147,  0.05730741,  0.74789134,  0.53895408],\n",
       "       [ 1.94052744, -0.611279  ,  1.41244922,  1.06660143],\n",
       "       [-0.20426605, -0.611279  ,  0.74789134,  1.19851327],\n",
       "       [-1.75328356, -0.16555473, -1.35654197, -1.30781165],\n",
       "       [-0.80004201,  1.61734236, -1.13502268, -1.04398797],\n",
       "       [-0.08511085, -0.16555473,  0.36023257,  0.14321857],\n",
       "       [-0.32342124, -1.72558968,  0.24947292,  0.2751304 ],\n",
       "       [ 0.51066511, -0.611279  ,  0.69251151,  0.93468959],\n",
       "       [-0.80004201, -1.27986541, -0.30432532,  0.01130673],\n",
       "       [-0.68088682, -0.83414114,  0.1940931 ,  0.40704224],\n",
       "       [ 0.62982031,  0.50303168,  0.63713169,  0.67086592],\n",
       "       [-0.91919721, -2.39417609, -0.0274262 , -0.12060511],\n",
       "       [ 0.03404434, -0.83414114,  0.85865098,  1.06660143],\n",
       "       [ 1.34475147,  0.28016954,  1.19092993,  1.59424878],\n",
       "       [ 1.22559628, -0.16555473,  1.08017028,  1.33042511],\n",
       "       [ 0.39150992, -0.16555473,  0.58175186,  0.40704224],\n",
       "       [ 1.46390666,  0.28016954,  0.63713169,  0.40704224],\n",
       "       [ 1.22559628,  0.28016954,  1.30168957,  1.59424878],\n",
       "       [ 0.15319953, -0.16555473,  0.85865098,  0.93468959],\n",
       "       [ 0.62982031,  0.72589381,  1.1355501 ,  1.72616062],\n",
       "       [-0.91919721,  0.72589381, -1.07964285, -0.91207614],\n",
       "       [ 0.27235473, -0.38841687,  0.52637204,  0.53895408]])"
      ]
     },
     "execution_count": 32,
     "metadata": {},
     "output_type": "execute_result"
    }
   ],
   "source": [
    "scaler=StandardScaler()\n",
    "scaler.fit(x_train)\n",
    "x_train=scaler.transform(x_train)\n",
    "x_test=scaler.transform(x_test)\n",
    "x_test"
   ]
  },
  {
   "cell_type": "code",
   "execution_count": 33,
   "id": "930c3f90",
   "metadata": {},
   "outputs": [
    {
     "data": {
      "text/plain": [
       "array([[ 0.7489755 , -0.38841687,  0.41561239,  0.2751304 ],\n",
       "       [ 0.7489755 , -0.611279  ,  1.1355501 ,  1.46233695],\n",
       "       [-1.15750759,  0.72589381, -0.91350338, -1.17589981],\n",
       "       [-0.91919721,  0.94875595, -1.07964285, -0.64825246],\n",
       "       [ 0.27235473, -1.94845182,  0.80327116,  0.53895408],\n",
       "       [-0.32342124, -1.05700327,  0.47099222,  0.14321857],\n",
       "       [ 0.8681307 , -0.16555473,  0.91403081,  1.19851327],\n",
       "       [ 0.39150992, -0.611279  ,  0.63713169,  0.14321857],\n",
       "       [-1.0383524 , -0.16555473, -1.1904025 , -1.17589981],\n",
       "       [-0.08511085, -0.38841687,  0.36023257,  0.2751304 ],\n",
       "       [ 0.51066511, -1.94845182,  0.52637204,  0.53895408],\n",
       "       [ 0.03404434, -0.83414114,  0.1940931 ,  0.14321857],\n",
       "       [-0.20426605, -0.16555473,  0.30485274,  0.2751304 ],\n",
       "       [-1.15750759, -0.16555473, -1.1904025 , -1.04398797],\n",
       "       [-1.0383524 ,  0.05730741, -1.13502268, -1.30781165],\n",
       "       [ 1.34475147,  0.05730741,  1.02479045,  1.33042511],\n",
       "       [-1.63412837, -0.16555473, -1.24578232, -1.17589981],\n",
       "       [-0.56173163,  1.39448022, -1.13502268, -1.17589981],\n",
       "       [ 0.62982031, -0.83414114,  0.74789134,  0.93468959],\n",
       "       [ 2.29799302, -0.611279  ,  1.74472817,  1.19851327],\n",
       "       [-0.91919721,  0.72589381, -1.13502268, -1.17589981],\n",
       "       [ 0.8681307 ,  0.28016954,  0.85865098,  1.19851327],\n",
       "       [ 0.98728589, -0.16555473,  0.47099222,  0.40704224],\n",
       "       [-0.91919721,  0.28016954, -1.30116215, -1.17589981],\n",
       "       [ 1.10644108,  0.50303168,  1.19092993,  1.33042511],\n",
       "       [-0.80004201,  0.94875595, -1.1904025 , -1.04398797],\n",
       "       [-1.15750759,  0.72589381, -1.07964285, -1.17589981],\n",
       "       [ 2.29799302, -0.16555473,  1.41244922,  1.59424878],\n",
       "       [-1.15750759,  0.05730741, -1.07964285, -1.17589981],\n",
       "       [-0.80004201,  0.72589381, -1.13502268, -1.17589981],\n",
       "       [ 2.29799302,  1.61734236,  1.74472817,  1.46233695],\n",
       "       [ 0.03404434, -0.83414114,  0.30485274, -0.12060511],\n",
       "       [-0.32342124,  2.5087909 , -1.1904025 , -1.17589981],\n",
       "       [ 0.8681307 , -0.611279  ,  0.58175186,  0.53895408],\n",
       "       [ 1.22559628, -0.611279  ,  0.69251151,  0.40704224],\n",
       "       [-0.08511085,  2.95451517, -1.13502268, -0.91207614],\n",
       "       [ 0.62982031, -0.611279  ,  0.85865098,  0.53895408],\n",
       "       [-0.91919721, -0.16555473, -1.07964285, -1.17589981],\n",
       "       [-0.20426605, -1.27986541,  0.1940931 ,  0.01130673],\n",
       "       [-1.39581798,  0.05730741, -1.13502268, -1.17589981],\n",
       "       [-0.08511085, -1.05700327, -0.0274262 , -0.12060511],\n",
       "       [ 0.62982031,  0.50303168,  1.3570694 ,  1.85807246],\n",
       "       [-0.20426605, -0.38841687,  0.02795363,  0.2751304 ],\n",
       "       [-1.51497317, -1.72558968, -1.24578232, -1.04398797],\n",
       "       [ 2.17883782, -0.16555473,  1.68934834,  1.33042511],\n",
       "       [-1.0383524 , -1.27986541,  0.52637204,  0.80277776],\n",
       "       [-0.08511085,  1.61734236, -1.02426303, -1.04398797],\n",
       "       [-0.44257643,  1.39448022, -1.13502268, -1.17589981],\n",
       "       [ 2.5363034 ,  1.61734236,  1.57858869,  1.19851327],\n",
       "       [ 0.15319953,  0.28016954,  0.69251151,  0.93468959],\n",
       "       [-0.44257643,  0.72589381, -1.13502268, -0.91207614],\n",
       "       [ 1.70221705,  1.17161809,  1.41244922,  1.85807246],\n",
       "       [ 0.03404434,  2.06306663, -1.30116215, -1.17589981],\n",
       "       [ 0.62982031, -0.38841687,  1.1355501 ,  0.93468959],\n",
       "       [ 0.39150992, -0.16555473,  0.74789134,  0.93468959],\n",
       "       [-1.39581798,  1.17161809, -1.4119218 , -1.17589981],\n",
       "       [ 0.98728589, -0.38841687,  0.58175186,  0.2751304 ],\n",
       "       [ 0.7489755 , -0.611279  ,  1.1355501 ,  1.33042511],\n",
       "       [ 2.29799302, -1.05700327,  1.85548781,  1.59424878],\n",
       "       [ 0.39150992, -0.38841687,  0.63713169,  0.40704224],\n",
       "       [-0.08511085, -1.27986541,  0.80327116,  1.19851327],\n",
       "       [-0.91919721,  0.50303168, -1.1904025 , -1.17589981],\n",
       "       [-0.08511085, -0.611279  ,  0.52637204,  0.2751304 ],\n",
       "       [-1.63412837, -0.38841687, -1.1904025 , -1.17589981],\n",
       "       [-1.15750759, -0.16555473, -1.1904025 , -1.30781165],\n",
       "       [ 0.27235473,  0.72589381,  0.52637204,  0.67086592],\n",
       "       [ 0.62982031, -1.72558968,  0.47099222,  0.2751304 ],\n",
       "       [ 0.7489755 ,  0.28016954,  0.52637204,  0.53895408],\n",
       "       [ 0.7489755 ,  0.28016954,  0.96941063,  1.59424878],\n",
       "       [-0.32342124, -1.50272755,  0.13871327,  0.01130673],\n",
       "       [ 1.70221705, -0.16555473,  1.24630975,  0.67086592],\n",
       "       [-0.91919721, -1.72558968, -0.13818585, -0.12060511],\n",
       "       [ 0.7489755 , -0.83414114,  0.96941063,  1.06660143],\n",
       "       [ 0.8681307 , -0.16555473,  1.24630975,  1.46233695],\n",
       "       [ 0.51066511,  0.72589381,  1.02479045,  1.59424878],\n",
       "       [ 0.15319953, -0.16555473,  0.36023257,  0.53895408],\n",
       "       [-0.20426605, -0.83414114,  0.36023257,  0.2751304 ],\n",
       "       [-1.0383524 ,  0.05730741, -1.13502268, -1.30781165],\n",
       "       [-0.08511085, -0.611279  ,  0.30485274,  0.2751304 ],\n",
       "       [-1.39581798,  0.28016954, -1.1904025 , -1.17589981],\n",
       "       [-1.63412837,  0.28016954, -1.24578232, -1.17589981],\n",
       "       [-0.80004201,  0.50303168, -1.02426303, -0.7801643 ],\n",
       "       [ 1.58306186, -0.16555473,  1.30168957,  1.33042511],\n",
       "       [-0.68088682,  0.94875595, -1.13502268, -1.17589981],\n",
       "       [-0.32342124,  0.94875595, -1.24578232, -1.17589981],\n",
       "       [-0.68088682,  2.28592877, -1.13502268, -1.30781165],\n",
       "       [ 0.39150992, -0.611279  ,  0.24947292,  0.2751304 ],\n",
       "       [-1.39581798,  0.72589381, -1.1904025 , -1.04398797],\n",
       "       [ 0.27235473, -1.94845182,  0.24947292, -0.12060511],\n",
       "       [-0.80004201,  1.61734236, -0.91350338, -0.91207614],\n",
       "       [-0.80004201,  1.61734236, -1.07964285, -1.17589981],\n",
       "       [-0.80004201,  1.39448022, -1.13502268, -0.91207614],\n",
       "       [-1.27666279,  0.28016954, -1.24578232, -1.17589981],\n",
       "       [-1.0383524 , -1.50272755, -0.13818585, -0.12060511],\n",
       "       [ 0.8681307 , -0.16555473,  1.08017028,  0.93468959],\n",
       "       [ 0.03404434, -1.05700327,  0.24947292,  0.14321857],\n",
       "       [-0.44257643, -0.16555473,  0.52637204,  0.53895408],\n",
       "       [-0.91919721,  0.94875595, -1.24578232, -1.04398797],\n",
       "       [-0.68088682,  0.72589381, -1.1904025 , -1.17589981],\n",
       "       [ 0.03404434, -0.83414114,  0.85865098,  1.06660143],\n",
       "       [ 0.51066511, -0.38841687,  0.41561239,  0.2751304 ],\n",
       "       [-0.91919721,  1.17161809, -1.1904025 , -1.17589981],\n",
       "       [ 0.62982031, -1.27986541,  0.80327116,  1.06660143],\n",
       "       [ 1.10644108,  0.05730741,  0.47099222,  0.40704224],\n",
       "       [ 0.39150992, -1.05700327,  1.1355501 ,  0.40704224]])"
      ]
     },
     "execution_count": 33,
     "metadata": {},
     "output_type": "execute_result"
    }
   ],
   "source": [
    "x_train"
   ]
  },
  {
   "cell_type": "code",
   "execution_count": 34,
   "id": "1a777f85",
   "metadata": {},
   "outputs": [
    {
     "data": {
      "text/html": [
       "<style>#sk-container-id-2 {color: black;background-color: white;}#sk-container-id-2 pre{padding: 0;}#sk-container-id-2 div.sk-toggleable {background-color: white;}#sk-container-id-2 label.sk-toggleable__label {cursor: pointer;display: block;width: 100%;margin-bottom: 0;padding: 0.3em;box-sizing: border-box;text-align: center;}#sk-container-id-2 label.sk-toggleable__label-arrow:before {content: \"▸\";float: left;margin-right: 0.25em;color: #696969;}#sk-container-id-2 label.sk-toggleable__label-arrow:hover:before {color: black;}#sk-container-id-2 div.sk-estimator:hover label.sk-toggleable__label-arrow:before {color: black;}#sk-container-id-2 div.sk-toggleable__content {max-height: 0;max-width: 0;overflow: hidden;text-align: left;background-color: #f0f8ff;}#sk-container-id-2 div.sk-toggleable__content pre {margin: 0.2em;color: black;border-radius: 0.25em;background-color: #f0f8ff;}#sk-container-id-2 input.sk-toggleable__control:checked~div.sk-toggleable__content {max-height: 200px;max-width: 100%;overflow: auto;}#sk-container-id-2 input.sk-toggleable__control:checked~label.sk-toggleable__label-arrow:before {content: \"▾\";}#sk-container-id-2 div.sk-estimator input.sk-toggleable__control:checked~label.sk-toggleable__label {background-color: #d4ebff;}#sk-container-id-2 div.sk-label input.sk-toggleable__control:checked~label.sk-toggleable__label {background-color: #d4ebff;}#sk-container-id-2 input.sk-hidden--visually {border: 0;clip: rect(1px 1px 1px 1px);clip: rect(1px, 1px, 1px, 1px);height: 1px;margin: -1px;overflow: hidden;padding: 0;position: absolute;width: 1px;}#sk-container-id-2 div.sk-estimator {font-family: monospace;background-color: #f0f8ff;border: 1px dotted black;border-radius: 0.25em;box-sizing: border-box;margin-bottom: 0.5em;}#sk-container-id-2 div.sk-estimator:hover {background-color: #d4ebff;}#sk-container-id-2 div.sk-parallel-item::after {content: \"\";width: 100%;border-bottom: 1px solid gray;flex-grow: 1;}#sk-container-id-2 div.sk-label:hover label.sk-toggleable__label {background-color: #d4ebff;}#sk-container-id-2 div.sk-serial::before {content: \"\";position: absolute;border-left: 1px solid gray;box-sizing: border-box;top: 0;bottom: 0;left: 50%;z-index: 0;}#sk-container-id-2 div.sk-serial {display: flex;flex-direction: column;align-items: center;background-color: white;padding-right: 0.2em;padding-left: 0.2em;position: relative;}#sk-container-id-2 div.sk-item {position: relative;z-index: 1;}#sk-container-id-2 div.sk-parallel {display: flex;align-items: stretch;justify-content: center;background-color: white;position: relative;}#sk-container-id-2 div.sk-item::before, #sk-container-id-2 div.sk-parallel-item::before {content: \"\";position: absolute;border-left: 1px solid gray;box-sizing: border-box;top: 0;bottom: 0;left: 50%;z-index: -1;}#sk-container-id-2 div.sk-parallel-item {display: flex;flex-direction: column;z-index: 1;position: relative;background-color: white;}#sk-container-id-2 div.sk-parallel-item:first-child::after {align-self: flex-end;width: 50%;}#sk-container-id-2 div.sk-parallel-item:last-child::after {align-self: flex-start;width: 50%;}#sk-container-id-2 div.sk-parallel-item:only-child::after {width: 0;}#sk-container-id-2 div.sk-dashed-wrapped {border: 1px dashed gray;margin: 0 0.4em 0.5em 0.4em;box-sizing: border-box;padding-bottom: 0.4em;background-color: white;}#sk-container-id-2 div.sk-label label {font-family: monospace;font-weight: bold;display: inline-block;line-height: 1.2em;}#sk-container-id-2 div.sk-label-container {text-align: center;}#sk-container-id-2 div.sk-container {/* jupyter's `normalize.less` sets `[hidden] { display: none; }` but bootstrap.min.css set `[hidden] { display: none !important; }` so we also need the `!important` here to be able to override the default hidden behavior on the sphinx rendered scikit-learn.org. See: https://github.com/scikit-learn/scikit-learn/issues/21755 */display: inline-block !important;position: relative;}#sk-container-id-2 div.sk-text-repr-fallback {display: none;}</style><div id=\"sk-container-id-2\" class=\"sk-top-container\"><div class=\"sk-text-repr-fallback\"><pre>KNeighborsClassifier()</pre><b>In a Jupyter environment, please rerun this cell to show the HTML representation or trust the notebook. <br />On GitHub, the HTML representation is unable to render, please try loading this page with nbviewer.org.</b></div><div class=\"sk-container\" hidden><div class=\"sk-item\"><div class=\"sk-estimator sk-toggleable\"><input class=\"sk-toggleable__control sk-hidden--visually\" id=\"sk-estimator-id-2\" type=\"checkbox\" checked><label for=\"sk-estimator-id-2\" class=\"sk-toggleable__label sk-toggleable__label-arrow\">KNeighborsClassifier</label><div class=\"sk-toggleable__content\"><pre>KNeighborsClassifier()</pre></div></div></div></div></div>"
      ],
      "text/plain": [
       "KNeighborsClassifier()"
      ]
     },
     "execution_count": 34,
     "metadata": {},
     "output_type": "execute_result"
    }
   ],
   "source": [
    "knn=KNeighborsClassifier(n_neighbors=5)\n",
    "knn.fit(x_train,y_train)"
   ]
  },
  {
   "cell_type": "code",
   "execution_count": 35,
   "id": "753409dd",
   "metadata": {},
   "outputs": [],
   "source": [
    "y_predict=knn.predict(x_test)"
   ]
  },
  {
   "cell_type": "code",
   "execution_count": 36,
   "id": "4bb69cc6",
   "metadata": {},
   "outputs": [
    {
     "name": "stdout",
     "output_type": "stream",
     "text": [
      "['Iris-versicolor' 'Iris-virginica' 'Iris-virginica' 'Iris-setosa'\n",
      " 'Iris-setosa' 'Iris-virginica' 'Iris-virginica' 'Iris-setosa'\n",
      " 'Iris-virginica' 'Iris-virginica' 'Iris-virginica' 'Iris-setosa'\n",
      " 'Iris-versicolor' 'Iris-virginica' 'Iris-virginica' 'Iris-versicolor'\n",
      " 'Iris-virginica' 'Iris-versicolor' 'Iris-versicolor' 'Iris-setosa'\n",
      " 'Iris-virginica' 'Iris-versicolor' 'Iris-setosa' 'Iris-versicolor'\n",
      " 'Iris-virginica' 'Iris-virginica' 'Iris-setosa' 'Iris-setosa'\n",
      " 'Iris-versicolor' 'Iris-versicolor' 'Iris-virginica' 'Iris-versicolor'\n",
      " 'Iris-versicolor' 'Iris-versicolor' 'Iris-versicolor' 'Iris-virginica'\n",
      " 'Iris-virginica' 'Iris-virginica' 'Iris-versicolor' 'Iris-versicolor'\n",
      " 'Iris-virginica' 'Iris-versicolor' 'Iris-virginica' 'Iris-setosa'\n",
      " 'Iris-versicolor']\n"
     ]
    }
   ],
   "source": [
    "print(y_predict)"
   ]
  },
  {
   "cell_type": "code",
   "execution_count": 37,
   "id": "32e11f4f",
   "metadata": {},
   "outputs": [
    {
     "data": {
      "text/plain": [
       "array(['Iris-virginica', 'Iris-virginica', 'Iris-virginica',\n",
       "       'Iris-setosa', 'Iris-setosa', 'Iris-versicolor', 'Iris-virginica',\n",
       "       'Iris-setosa', 'Iris-virginica', 'Iris-virginica',\n",
       "       'Iris-virginica', 'Iris-setosa', 'Iris-versicolor',\n",
       "       'Iris-virginica', 'Iris-versicolor', 'Iris-versicolor',\n",
       "       'Iris-virginica', 'Iris-versicolor', 'Iris-versicolor',\n",
       "       'Iris-setosa', 'Iris-virginica', 'Iris-versicolor', 'Iris-setosa',\n",
       "       'Iris-versicolor', 'Iris-virginica', 'Iris-virginica',\n",
       "       'Iris-setosa', 'Iris-setosa', 'Iris-versicolor', 'Iris-versicolor',\n",
       "       'Iris-virginica', 'Iris-versicolor', 'Iris-versicolor',\n",
       "       'Iris-versicolor', 'Iris-versicolor', 'Iris-virginica',\n",
       "       'Iris-virginica', 'Iris-virginica', 'Iris-versicolor',\n",
       "       'Iris-versicolor', 'Iris-virginica', 'Iris-virginica',\n",
       "       'Iris-virginica', 'Iris-setosa', 'Iris-versicolor'], dtype=object)"
      ]
     },
     "execution_count": 37,
     "metadata": {},
     "output_type": "execute_result"
    }
   ],
   "source": [
    "y_test"
   ]
  },
  {
   "cell_type": "code",
   "execution_count": 38,
   "id": "718ee10b",
   "metadata": {},
   "outputs": [
    {
     "name": "stdout",
     "output_type": "stream",
     "text": [
      "['Iris-virginica']\n"
     ]
    }
   ],
   "source": [
    "print(knn.predict([[7.4,2.8,6.1,1.9]]))"
   ]
  },
  {
   "cell_type": "code",
   "execution_count": 39,
   "id": "ad5ac291",
   "metadata": {},
   "outputs": [],
   "source": [
    "from sklearn.metrics._plot.confusion_matrix import confusion_matrix\n",
    "from sklearn.metrics import classification_report,accuracy_score,ConfusionMatrixDisplay"
   ]
  },
  {
   "cell_type": "code",
   "execution_count": 40,
   "id": "9307d34a",
   "metadata": {},
   "outputs": [
    {
     "data": {
      "text/plain": [
       "<sklearn.metrics._plot.confusion_matrix.ConfusionMatrixDisplay at 0x7f154c212b60>"
      ]
     },
     "execution_count": 40,
     "metadata": {},
     "output_type": "execute_result"
    },
    {
     "data": {
      "image/png": "[encoded data removed]",
      "text/plain": [
       "<Figure size 640x480 with 2 Axes>"
      ]
     },
     "metadata": {},
     "output_type": "display_data"
    }
   ],
   "source": [
    "result=confusion_matrix(y_test,y_predict)\n",
    "labels=['Iris-virginica','Iris-setosa','Iris-versicolor']\n",
    "cm=ConfusionMatrixDisplay(result,display_labels=labels)\n",
    "cm.plot()"
   ]
  },
  {
   "cell_type": "raw",
   "id": "05221250",
   "metadata": {},
   "source": []
  },
  {
   "cell_type": "code",
   "execution_count": 41,
   "id": "dfd0ee7f",
   "metadata": {},
   "outputs": [
    {
     "data": {
      "text/plain": [
       "array([[ 9,  0,  0],\n",
       "       [ 0, 15,  2],\n",
       "       [ 0,  2, 17]])"
      ]
     },
     "execution_count": 41,
     "metadata": {},
     "output_type": "execute_result"
    }
   ],
   "source": [
    "result"
   ]
  },
  {
   "cell_type": "code",
   "execution_count": 42,
   "id": "e2535355",
   "metadata": {},
   "outputs": [],
   "source": [
    "score=accuracy_score(y_test,y_predict)"
   ]
  },
  {
   "cell_type": "code",
   "execution_count": 43,
   "id": "1d1a997b",
   "metadata": {},
   "outputs": [
    {
     "data": {
      "text/plain": [
       "0.9111111111111111"
      ]
     },
     "execution_count": 43,
     "metadata": {},
     "output_type": "execute_result"
    }
   ],
   "source": [
    "score"
   ]
  },
  {
   "cell_type": "code",
   "execution_count": null,
   "id": "cee5a26b",
   "metadata": {},
   "outputs": [],
   "source": []
  },
  {
   "cell_type": "code",
   "execution_count": null,
   "id": "a1ec2ebc",
   "metadata": {},
   "outputs": [],
   "source": []
  }
 ],
 "metadata": {
  "kernelspec": {
   "display_name": "Python 3 (ipykernel)",
   "language": "python",
   "name": "python3"
  },
  "language_info": {
   "codemirror_mode": {
    "name": "ipython",
    "version": 3
   },
   "file_extension": ".py",
   "mimetype": "text/x-python",
   "name": "python",
   "nbconvert_exporter": "python",
   "pygments_lexer": "ipython3",
   "version": "3.10.6"
  }
 },
 "nbformat": 4,
 "nbformat_minor": 5
}
